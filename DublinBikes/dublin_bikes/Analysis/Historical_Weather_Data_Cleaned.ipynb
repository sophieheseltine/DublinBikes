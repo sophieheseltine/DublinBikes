{
 "cells": [
  {
   "cell_type": "code",
   "execution_count": 54,
   "metadata": {
    "collapsed": true
   },
   "outputs": [],
   "source": [
    "#Import the required packages\n",
    "#Import package pandas for data analysis\n",
    "import pandas as pd"
   ]
  },
  {
   "cell_type": "code",
   "execution_count": 55,
   "metadata": {
    "collapsed": true,
    "scrolled": true
   },
   "outputs": [],
   "source": [
    "df2 = pd.read_csv('1061c00397480c59d9477beea87503e6.csv')\n",
    "df1 = pd.read_csv('308eb6d197090d8d500ae4020438b87b.csv')"
   ]
  },
  {
   "cell_type": "code",
   "execution_count": 56,
   "metadata": {
    "scrolled": true
   },
   "outputs": [
    {
     "data": {
      "text/plain": [
       "337"
      ]
     },
     "execution_count": 56,
     "metadata": {},
     "output_type": "execute_result"
    }
   ],
   "source": [
    "df1.shape[0]"
   ]
  },
  {
   "cell_type": "code",
   "execution_count": 57,
   "metadata": {
    "scrolled": true
   },
   "outputs": [
    {
     "data": {
      "text/plain": [
       "24"
      ]
     },
     "execution_count": 57,
     "metadata": {},
     "output_type": "execute_result"
    }
   ],
   "source": [
    "df2.shape[0]"
   ]
  },
  {
   "cell_type": "code",
   "execution_count": 58,
   "metadata": {
    "scrolled": false
   },
   "outputs": [
    {
     "data": {
      "text/plain": [
       "361"
      ]
     },
     "execution_count": 58,
     "metadata": {},
     "output_type": "execute_result"
    }
   ],
   "source": [
    "df = df1.append(df2, ignore_index=True)\n",
    "df.shape[0]\n"
   ]
  },
  {
   "cell_type": "code",
   "execution_count": 59,
   "metadata": {
    "collapsed": true,
    "scrolled": false
   },
   "outputs": [],
   "source": [
    "df_weather = df[['dt_iso','weather_main']]"
   ]
  },
  {
   "cell_type": "code",
   "execution_count": 60,
   "metadata": {},
   "outputs": [
    {
     "data": {
      "text/plain": [
       "dt_iso          object\n",
       "weather_main    object\n",
       "dtype: object"
      ]
     },
     "execution_count": 60,
     "metadata": {},
     "output_type": "execute_result"
    }
   ],
   "source": [
    "df_weather.dtypes"
   ]
  },
  {
   "cell_type": "code",
   "execution_count": 61,
   "metadata": {
    "collapsed": true
   },
   "outputs": [],
   "source": [
    "HourList = []\n",
    "for row in df_weather.iterrows():\n",
    "    split = row[1]['dt_iso'].split(' ')\n",
    "    hour = (split[1].split(':'))\n",
    "    HourList.append(hour[0])"
   ]
  },
  {
   "cell_type": "code",
   "execution_count": 62,
   "metadata": {
    "collapsed": true
   },
   "outputs": [],
   "source": [
    "df_Hour = pd.DataFrame({'Hour':HourList})\n",
    "#print (df_Hour)\n",
    "df_Hour['Hour'] = df_Hour['Hour'].astype('int64')\n",
    "df_Hour\n",
    "#df_hour = pd.DataFrame.(HourList)\n",
    "#df_hour\n",
    "df_new = pd.concat([df_weather, df_Hour], axis=1)"
   ]
  },
  {
   "cell_type": "code",
   "execution_count": 63,
   "metadata": {
    "collapsed": true
   },
   "outputs": [],
   "source": [
    "DayList = []\n",
    "for row in df_weather.iterrows():\n",
    "    split = row[1]['dt_iso'].split(' ')\n",
    "    DayList.append(split[0])"
   ]
  },
  {
   "cell_type": "code",
   "execution_count": 64,
   "metadata": {
    "collapsed": true
   },
   "outputs": [],
   "source": [
    "df_Day = pd.DataFrame({'Day':DayList})\n",
    "df_Day['Day'] = df_Day['Day'].astype('str')\n",
    "df_Day\n",
    "#df_hour = pd.DataFrame.(HourList)\n",
    "#df_hour\n",
    "df_Days = pd.concat([df_new, df_Day], axis=1)"
   ]
  },
  {
   "cell_type": "code",
   "execution_count": 74,
   "metadata": {
    "collapsed": true,
    "scrolled": false
   },
   "outputs": [],
   "source": [
    "df_Days['Day'] = pd.np.where(df_Days.Day.str.contains('2018-03-29'), '29/03/2018',\n",
    "                  pd.np.where(df_Days.Day.str.contains('2018-03-30'), '30/03/2018',\n",
    "                  pd.np.where(df_Days.Day.str.contains('2018-03-31'), '31/03/2018',\n",
    "                   pd.np.where(df_Days.Day.str.contains('2018-04-01'), '01/04/2018',\n",
    "                   pd.np.where(df_Days.Day.str.contains('2018-04-02'), '02/04/2018',\n",
    "                  pd.np.where(df_Days.Day.str.contains('2018-04-03'), '03/04/2018',\n",
    "                   pd.np.where(df_Days.Day.str.contains('2018-04-04'), '04/04/2018',\n",
    "                   pd.np.where(df_Days.Day.str.contains('2018-04-05'), '05/04/2018',\n",
    "                  pd.np.where(df_Days.Day.str.contains('2018-04-06'), '06/04/2018',\n",
    "                   pd.np.where(df_Days.Day.str.contains('2018-04-07'), '07/04/2018',\n",
    "                   pd.np.where(df_Days.Day.str.contains('2018-04-08'), '08/04/2018',\n",
    "                  pd.np.where(df_Days.Day.str.contains('2018-04-09'), '09/04/2018',\n",
    "                   pd.np.where(df_Days.Day.str.contains('2018-04-10'), '10/04/2018',\n",
    "                   pd.np.where(df_Days.Day.str.contains('2018-04-11'), '11/04/2018',\n",
    "                   pd.np.where(df_Days.Day.str.contains('2018-04-12'), '12/04/2018', 'null'      \n",
    "                             \n",
    "                              )))))))))))))))"
   ]
  },
  {
   "cell_type": "code",
   "execution_count": 66,
   "metadata": {
    "collapsed": true,
    "scrolled": true
   },
   "outputs": [],
   "source": [
    "df = df_Days.drop(['dt_iso'], axis=1)"
   ]
  },
  {
   "cell_type": "code",
   "execution_count": 67,
   "metadata": {
    "scrolled": false
   },
   "outputs": [
    {
     "name": "stdout",
     "output_type": "stream",
     "text": [
      "Unique values for:\n",
      "- Weather: ['Clouds' 'Rain' 'Mist' 'Fog' 'Snow' 'Drizzle' 'Clear']\n"
     ]
    }
   ],
   "source": [
    "print(\"Unique values for:\\n- Weather:\", pd.unique(df.weather_main.ravel()))"
   ]
  },
  {
   "cell_type": "code",
   "execution_count": 69,
   "metadata": {
    "collapsed": true
   },
   "outputs": [],
   "source": [
    "RainList = []\n",
    "for row in df['weather_main'].iteritems():\n",
    "    if row[1] == 'Rain' or row[1] == 'Drizzle':\n",
    "        RainList.append(1)\n",
    "    else:\n",
    "        RainList.append(0)"
   ]
  },
  {
   "cell_type": "code",
   "execution_count": 73,
   "metadata": {
    "collapsed": true,
    "scrolled": false
   },
   "outputs": [],
   "source": [
    "df_Rain = pd.DataFrame({'Rain':RainList})\n",
    "df_Rain['Rain'] = df_Rain['Rain'].astype('bool')\n",
    "CleanedDF = pd.concat([df, df_Rain], axis=1)"
   ]
  },
  {
   "cell_type": "code",
   "execution_count": 75,
   "metadata": {
    "collapsed": true
   },
   "outputs": [],
   "source": [
    "df_NEW = CleanedDF[:352]\n",
    "#df_NEW\n",
    "df_almost = df_NEW[10:]\n",
    "df_Final = df_almost.drop(['weather_main'], axis=1)\n",
    "df_Final\n",
    "df_Final.to_csv('Weather.csv', index=False)"
   ]
  }
 ],
 "metadata": {
  "kernelspec": {
   "display_name": "Python 3",
   "language": "python",
   "name": "python3"
  },
  "language_info": {
   "codemirror_mode": {
    "name": "ipython",
    "version": 3
   },
   "file_extension": ".py",
   "mimetype": "text/x-python",
   "name": "python",
   "nbconvert_exporter": "python",
   "pygments_lexer": "ipython3",
   "version": "3.6.2"
  }
 },
 "nbformat": 4,
 "nbformat_minor": 2
}
